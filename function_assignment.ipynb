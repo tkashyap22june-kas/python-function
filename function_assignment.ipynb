{
  "cells": [
    {
      "cell_type": "markdown",
      "source": [
        "\n",
        "1 What is the difference between a function and a method in Python?\n",
        "\n",
        "A function is a block of code that is called by name. It can be passed data to operate on (arguments) and can return data (the return value). Functions are defined using the def keyword.\n",
        "A method is a function that belongs to an object. Methods are defined within a class, and they operate on the instance of the class (the object). Methods are called on an object using dot notation (e.g., object.method())\n",
        "\n",
        "# Function example\n",
        "def add_numbers(a, b): return a + b\n",
        "\n",
        "result = add_numbers(5, 3) print(f\"Function result: {result}\")\n",
        "\n",
        "Method example\n",
        "class Dog: def init(self, name): self.name = name\n",
        "\n",
        "def bark(self):  # This is a method\n",
        "    print(f\"{self.name} says Woof!\")\n",
        "my_dog = Dog(\"Buddy\") my_dog.bark() # Calling the bark method on the my_dog object\n",
        "\n",
        "2 Explain the concept of function arguments and parameters in Python.\n",
        "\n",
        "In Python, parameters are the names that appear in the function definition. They are placeholders for the values that will be passed into the function. Arguments, on the other hand, are the actual values that are passed to the function when it is called.Parameters are like empty boxes in a recipe that tell you what ingredients you need (e.g., \"flour\", \"sugar\"). Arguments are the actual ingredients you put into those boxes when you make the recipe (e.g., 2 cups of flour, 1 cup of sugar).\n",
        "def add(a, b): # 'a' and 'b' are parameters\n",
        "return a + b\n",
        "result = add(5, 3) # 5 and 3 are arguments\n",
        "\n",
        "3  What are the different ways to define and call a function in Python?\n",
        "  - There are several ways to define and call functions in Python.\n",
        "\n",
        "Defining Functions:\n",
        "\n",
        "Using def: This is the most common way to define a function.\n",
        "def my_function(parameter1, parameter2):\n",
        "  # Function body\n",
        "  return result\n",
        "Using lambda (for anonymous functions): Lambda functions are small, anonymous functions defined with the lambda keyword. They can only contain a single expression.\n",
        "my_lambda_function = lambda parameter1, parameter2: expression\n",
        "Calling Functions:\n",
        "\n",
        "Positional Arguments: Arguments are passed in the order they are defined in the function.\n",
        "my_function(value1, value2)\n",
        "Keyword Arguments: Arguments are passed using the parameter name followed by the value. This allows you to pass arguments in any order.\n",
        "my_function(parameter1=value1, parameter2=value2)\n",
        "Default Arguments: You can provide default values for parameters in the function definition. If an argument is not provided for that parameter when calling the function, the default value is used.\n",
        "def my_function_with_default(parameter1, parameter2=default_value):\n",
        "  # Function body\n",
        "  pass\n",
        "\n",
        "my_function_with_default(value1) # Uses default_value for parameter2\n",
        "my_function_with_default(value1, value2) # Overrides default_value\n",
        "Arbitrary Positional Arguments (*args): If you don't know how many positional arguments will be passed, you can use *args to accept an arbitrary number of positional arguments as a tuple.\n",
        "def my_function_with_args(*args):\n",
        "  for arg in args:\n",
        "    print(arg)\n",
        "\n",
        "my_function_with_args(1, 2, 3)\n",
        "Arbitrary Keyword Arguments (`kwargs):** If you don't know how many keyword arguments will be passed, you can use**kwargs` to accept an arbitrary number of keyword arguments as a dictionary.\n",
        "def my_function_with_kwargs(**kwargs):\n",
        "  for key, value in kwargs.items():\n",
        "    print(f\"{key}: {value}\")\n",
        "\n",
        "my_function_with_kwargs(name=\"Alice\", age=30)\n",
        "\n",
        "4  What is the purpose of the `return` statement in a Python function?\n",
        "   - The return statement in a Python function has two main purposes:\n",
        "\n",
        "To exit the function: When the return statement is encountered, the function immediately stops executing, and the program flow returns to the point where the function was called.\n",
        "To send a value back to the caller: The return statement can optionally include a value or an expression. This value is then sent back to the part of the code that called the function, allowing the function to produce a result that can be used elsewhere.\n",
        "If a function does not have a return statement, or if it has a return statement without a value, it implicitly returns None.\n",
        "\n",
        "Here's an example:\n",
        "\n",
        "def add(a, b):\n",
        "  result = a + b\n",
        "  return result  # Returns the value of result\n",
        "\n",
        "def greet(name):\n",
        "  print(f\"Hello, {name}!\")\n",
        "  # No return statement, implicitly returns None\n",
        "\n",
        "sum_result = add(5, 3)\n",
        "print(sum_result)  # Output: 8\n",
        "\n",
        "greeting_result = greet(\"Bob\")\n",
        "print(greeting_result) # Output: Hello, Bob! followed by None\n",
        "\n",
        "5 What are iterators in Python and how do they differ from iterables?\n",
        "  - In Python, the terms iterable and iterator are related but distinct:\n",
        "\n",
        "An iterable is an object that can be \"iterated over\". This means it's a collection of items that you can go through one by one. Examples of iterables include lists, tuples, strings, dictionaries, and sets. You can check if an object is iterable by passing it to the built-in iter() function; if it returns an iterator, it's an iterable.\n",
        "An iterator is an object that represents a stream of data. It's what actually performs the iteration. An iterator must implement two methods:\n",
        "__iter__(): Returns the iterator object itself.\n",
        "__next__(): Returns the next item from the stream. If there are no more items, it should raise the StopIteration exception.\n",
        "Here's the key difference:\n",
        "\n",
        "An iterable is something you can loop over (like a list).\n",
        "An iterator is an object that keeps track of the current position in the iterable and knows how to get the next item.\n",
        "You can get an iterator from an iterable by calling the iter() function on it.\n",
        "\n",
        "Here's a simple analogy:\n",
        "\n",
        "Imagine a book. The book itself is the iterable (you can read through it). When you start reading, you use a bookmark to keep track of your current page. The bookmark is like the iterator (it knows where you are and helps you move to the next page).\n",
        "\n",
        "Let's look at an example:\n",
        "\n",
        "my_list = [1, 2, 3, 4] # This is an iterable\n",
        "\n",
        "my_iterator = iter(my_list) # This creates an iterator from the list\n",
        "\n",
        "print(next(my_iterator)) # Output: 1 (gets the first item)\n",
        "print(next(my_iterator)) # Output: 2 (gets the next item)\n",
        "print(next(my_iterator)) # Output: 3\n",
        "print(next(my_iterator)) # Output: 4\n",
        "\n",
        "# Calling next() again will raise StopIteration\n",
        "# print(next(my_iterator))\n",
        "When you use a for loop with an iterable, Python internally creates an iterator for you and uses the next() method to get items until StopIteration is raised.\n",
        "\n",
        "6  Explain the concept of generators in Python and how they are defined.\n",
        "  - Generators in Python are a special type of iterable that allow for the creation of iterators in a memory-efficient and concise manner. They are functions that produce a sequence of values lazily, meaning they generate values one at a time as requested, rather than storing all values in memory at once. This makes them particularly useful for handling large datasets or potentially infinite sequences.\n",
        "How Generators are Defined:\n",
        "Generators are defined similarly to regular Python functions, but with a key distinction: they use the yield keyword instead of return.\n",
        "Python\n",
        "\n",
        "def my_generator_function():\n",
        "    yield 1\n",
        "    yield 2\n",
        "    yield 3\n",
        "Explanation of the yield keyword:\n",
        "When a generator function is called, it does not immediately execute the entire function. Instead, it returns a generator object. This object is an iterator that can be iterated over (e.g., using a for loop or the next() function).\n",
        "\n",
        "7 What are the advantages of using generators over regular functions?\n",
        "   - Generators offer several advantages over regular functions when dealing with sequences of data, particularly in terms of memory usage and performance:\n",
        "\n",
        "Memory Efficiency: This is the most significant advantage. Regular functions that return a list or other iterable construct the entire sequence in memory before returning it. Generators, on the other hand, produce values one at a time on demand. This is crucial when dealing with very large datasets or infinite sequences that would consume too much memory if stored entirely.\n",
        "\n",
        "Regular function: Builds the whole list in memory.\n",
        "Generator: Yields one item at a time, keeping only the state needed to generate the next item.\n",
        "Lazy Evaluation: Generators compute values lazily, meaning they only produce the next value when it's explicitly requested (e.g., by a next() call or a loop iteration). This can be beneficial in scenarios where you might not need the entire sequence, saving computation time.\n",
        "\n",
        "Infinite Sequences: Generators can represent infinite sequences because they don't need to store all elements. A regular function would not be able to return an infinite list.\n",
        "\n",
        "Readability and Conciseness: For simple iterator patterns, a generator function using yield can be more concise and easier to read than creating a class with __iter__ and __next__ methods.\n",
        "\n",
        "Pipelining: Generators can be easily chained together to create data processing pipelines. The output of one generator can be the input of another, allowing for efficient data transformation without creating intermediate lists.\n",
        "\n",
        "When to use generators:\n",
        "\n",
        "When you are working with a large amount of data that doesn't fit into memory.\n",
        "When you need to generate a potentially infinite sequence.\n",
        "When you want to process data in a streaming fashion.\n",
        "When you want a more concise way to create iterators.\n",
        "####def get_even_numbers_list(limit):\n",
        "    even_numbers = []\n",
        "    for i in range(limit + 1):\n",
        "        if i % 2 == 0:\n",
        "            even_numbers.append(i)\n",
        "    return even_numbers\n",
        "\n",
        "# Usage:\n",
        "# large_limit = 10**7\n",
        "# even_nums = get_even_numbers_list(large_limit) # This creates a large list in memory\n",
        "\n",
        "8  What is a lambda function in Python and when is it typically used?\n",
        "  - A lambda function in Python is a small, anonymous function defined with the lambda keyword. It can have any number of arguments, but it can only have one expression. The expression is evaluated, and the result is returned implicitly.\n",
        "\n",
        "Here's the basic syntax:\n",
        "\n",
        "lambda arguments: expression\n",
        "Key characteristics of lambda functions:\n",
        "\n",
        "Anonymous: They don't have a name like regular functions defined with def.\n",
        "Single expression: They can only contain one expression.\n",
        "Concise: They are often used for short, simple operations.\n",
        "When are they typically used?\n",
        "\n",
        "Lambda functions are typically used in situations where a small function is needed for a short period and defining a full function with def would be overly verbose. Common use cases include:\n",
        "\n",
        "As arguments to higher-order functions: Functions that take other functions as arguments, such as map(), filter(), and sorted(), often use lambda functions for concise operations.\n",
        "# Using lambda with map()\n",
        "numbers = [1, 2, 3, 4]\n",
        "squared_numbers = list(map(lambda x: x**2, numbers))\n",
        "print(squared_numbers) # Output: [1, 4, 9, 16]\n",
        "\n",
        "# Using lambda with filter()\n",
        "even_numbers = list(filter(lambda x: x % 2 == 0, numbers))\n",
        "print(even_numbers) # Output: [2, 4]\n",
        "\n",
        "# Using lambda with sorted()\n",
        "pairs = [(1, 'one'), (2, 'two'), (3, 'three')]\n",
        "sorted_pairs = sorted(pairs, key=lambda pair: pair[0])\n",
        "print(sorted_pairs) # Output: [(1, 'one'), (2, 'two'), (3, 'three')]\n",
        "For simple callbacks or event handlers: In GUI programming or other event-driven scenarios, lambda functions can be used for simple actions.\n",
        "In list comprehensions or generator expressions: While not as common as using them with map, filter, or sorted, lambda functions can sometimes be used within these constructs.\n",
        "\n",
        "Limitations:\n",
        "\n",
        "Because they are limited to a single expression, lambda functions are not suitable for complex logic, multiple statements, or functions that require docstrings or annotations. In such cases, a regular function defined with def is more appropriate.\n",
        "\n",
        "In summary, lambda functions are a handy tool for creating small, throwaway functions for simple operations, especially when working with higher-order functions.\n",
        "\n",
        "9 . Explain the purpose and usage of the `map()` function in Python\n",
        "  - The map() function in Python is a built-in function that applies a given function to each item of an iterable (like a list or tuple) and returns an iterator that yields the results.\n",
        "\n",
        "Purpose:\n",
        "\n",
        "The main purpose of map() is to perform the same operation on every item of an iterable without using an explicit loop. This can make your code more concise and sometimes more readable for simple transformations.\n",
        "\n",
        "Usage:\n",
        "\n",
        "The syntax of the map() function is:\n",
        "\n",
        "map(function, iterable)\n",
        "function: The function to apply to each item of the iterable.\n",
        "iterable: The sequence (list, tuple, string, etc.) whose items will be passed to the function.\n",
        "map() returns a map object, which is an iterator. You can convert this map object to a list, tuple, or other sequence type if needed.\n",
        "\n",
        "Here's an example:\n",
        "\n",
        "# Define a function to square a number\n",
        "def square(x):\n",
        "  return x * x\n",
        "\n",
        "# Create a list of numbers\n",
        "numbers = [1, 2, 3, 4, 5]\n",
        "\n",
        "# Use map() to apply the square function to each number\n",
        "squared_numbers_map = map(square, numbers)\n",
        "\n",
        "# Convert the map object to a list to see the results\n",
        "squared_numbers_list = list(squared_numbers_map)\n",
        "\n",
        "print(squared_numbers_list) # Output: [1, 4, 9, 16, 25]\n",
        "You can also use a lambda function with map() for simple operations:\n",
        "\n",
        "numbers = [1, 2, 3, 4, 5]\n",
        "\n",
        "# Use map() with a lambda function to square each number\n",
        "squared_numbers_list_lambda = list(map(lambda x: x**2, numbers))\n",
        "\n",
        "print(squared_numbers_list_lambda) # Output: [1, 4, 9, 16, 25]\n",
        "  \n",
        "10 What is the difference between `map()`, `reduce()`, and `filter()` functions in Python?\n",
        "  - Let's break down the differences between map(), reduce(), and filter() in Python. These are all built-in functions (though reduce is in the functools module) that provide functional programming capabilities, but they serve different purposes:\n",
        "\n",
        "map():\n",
        "Purpose: Applies a given function to each item of an iterable and returns an iterator of the results. It's used for transforming each element in an iterable.\n",
        "Output: An iterator that yields the results of applying the function to each element of the input iterable(s). The output iterable has the same number of elements as the input iterable(s).\n",
        "Analogy: Like applying a stamp to every envelope in a pile.\n",
        "# Example with map()\n",
        "numbers = [1, 2, 3, 4, 5]\n",
        "squared = list(map(lambda x: x**2, numbers))\n",
        "print(squared) # Output: [1, 4, 9, 16, 25]\n",
        "filter():\n",
        "Purpose: Constructs an iterator from elements of an iterable for which a function returns true. It's used for selecting elements from an iterable based on a condition.\n",
        "Output: An iterator that yields only the elements from the input iterable for which the function (a predicate that returns True or False) returns True. The output iterable can have fewer elements than the input iterable.\n",
        "Analogy: Like sorting a pile of mail and keeping only the letters addressed to you.\n",
        "# Example with filter()\n",
        "numbers = [1, 2, 3, 4, 5]\n",
        "evens = list(filter(lambda x: x % 2 == 0, numbers))\n",
        "print(evens) # Output: [2, 4]\n",
        "reduce():\n",
        "Purpose: Applies a function of two arguments cumulatively to the items of a sequence or iterable, from left to right, so as to reduce the iterable to a single value. It's used for aggregating or combining elements in an iterable.\n",
        "Note: reduce() is in the functools module and needs to be imported.\n",
        "Output: A single value that is the result of the cumulative application of the function.\n",
        "Analogy: Like summing up a list of numbers.\n",
        "# Example with reduce()\n",
        "from functools import reduce\n",
        "\n",
        "numbers = [1, 2, 3, 4, 5]\n",
        "sum_of_numbers = reduce(lambda x, y: x + y, numbers)\n",
        "print(sum_of_numbers) # Output: 15\n",
        "\n",
        "# How reduce works step-by-step for sum:\n",
        "# ((((1 + 2) + 3) + 4) + 5)\n",
        "Summary of Differences:\n",
        "\n",
        "map() transforms each element.\n",
        "filter() selects elements based on a condition.\n",
        "reduce() combines elements into a single value.\n"
      ],
      "metadata": {
        "id": "svqRRvcXRQgm"
      }
    },
    {
      "cell_type": "code",
      "source": [
        "## 1 . Write a Python function that takes a list of numbers as input and returns the sum of all even numbers in\n",
        "the list.\n"
      ],
      "metadata": {
        "id": "r-buu4-9V7bl"
      },
      "execution_count": null,
      "outputs": []
    },
    {
      "cell_type": "code",
      "metadata": {
        "colab": {
          "base_uri": "https://localhost:8080/"
        },
        "id": "aac227c1",
        "outputId": "22643d39-eea8-4813-fe43-08a5c32405a4"
      },
      "source": [
        "def sum_of_even_numbers(numbers):\n",
        "  \"\"\"\n",
        "  Calculates the sum of all even numbers in a list.\n",
        "\n",
        "  Args:\n",
        "    numbers: A list of numbers.\n",
        "\n",
        "  Returns:\n",
        "    The sum of all even numbers in the list.\n",
        "  \"\"\"\n",
        "  even_sum = 0\n",
        "  for number in numbers:\n",
        "    if number % 2 == 0:\n",
        "      even_sum += number\n",
        "  return even_sum\n",
        "\n",
        "# Example usage:\n",
        "my_list = [1, 2, 3, 4, 5, 6, 7, 8, 9, 10]\n",
        "even_sum_result = sum_of_even_numbers(my_list)\n",
        "print(f\"The sum of even numbers in the list is: {even_sum_result}\")"
      ],
      "execution_count": 1,
      "outputs": [
        {
          "output_type": "stream",
          "name": "stdout",
          "text": [
            "The sum of even numbers in the list is: 30\n"
          ]
        }
      ]
    },
    {
      "cell_type": "code",
      "source": [
        "###2  Create a Python function that accepts a string and returns the reverse of that string.\n"
      ],
      "metadata": {
        "id": "5PH2zPzxZrDU"
      },
      "execution_count": null,
      "outputs": []
    },
    {
      "cell_type": "code",
      "metadata": {
        "id": "865f2fea"
      },
      "source": [
        "def reverse_string(input_string):\n",
        "  \"\"\"\n",
        "  Reverses a given string.\n",
        "\n",
        "  Args:\n",
        "    input_string: The string to be reversed.\n",
        "\n",
        "  Returns:\n",
        "    The reversed string.\n",
        "  \"\"\"\n",
        "  return input_string[::-1]\n",
        "\n",
        "# Example usage:\n",
        "my_string = \"Hello, World!\"\n",
        "reversed_string = reverse_string(my_string)\n",
        "print(f\"The original string is: {my_string}\")\n",
        "print(f\"The reversed string is: {reversed_string}\")"
      ],
      "execution_count": null,
      "outputs": []
    },
    {
      "cell_type": "code",
      "source": [
        "### 3 Implement a Python function that takes a list of integers and returns a new list containing the squares of\n",
        "###each number\n"
      ],
      "metadata": {
        "id": "VokaghCNZ2K3"
      },
      "execution_count": null,
      "outputs": []
    },
    {
      "cell_type": "code",
      "metadata": {
        "id": "8da0d64b"
      },
      "source": [
        "def square_numbers(numbers):\n",
        "  \"\"\"\n",
        "  Squares each number in a list and returns a new list.\n",
        "\n",
        "  Args:\n",
        "    numbers: A list of integers.\n",
        "\n",
        "  Returns:\n",
        "    A new list containing the squares of each number.\n",
        "  \"\"\"\n",
        "  squared_list = [number ** 2 for number in numbers]\n",
        "  return squared_list\n",
        "\n",
        "# Example usage:\n",
        "my_numbers = [1, 2, 3, 4, 5]\n",
        "squared_result = square_numbers(my_numbers)\n",
        "print(f\"Original list: {my_numbers}\")\n",
        "print(f\"Squared list: {squared_result}\")"
      ],
      "execution_count": null,
      "outputs": []
    },
    {
      "cell_type": "code",
      "source": [
        "### 4  Write a Python function that checks if a given number is prime or not from 1 to 200"
      ],
      "metadata": {
        "id": "3EZFJeW8aSfg"
      },
      "execution_count": null,
      "outputs": []
    },
    {
      "cell_type": "code",
      "metadata": {
        "id": "33322141"
      },
      "source": [
        "def is_prime(num):\n",
        "  \"\"\"\n",
        "  Checks if a given number is prime.\n",
        "\n",
        "  Args:\n",
        "    num: An integer.\n",
        "\n",
        "  Returns:\n",
        "    True if the number is prime, False otherwise.\n",
        "  \"\"\"\n",
        "  if num <= 1:\n",
        "    return False  # Numbers less than or equal to 1 are not prime\n",
        "  if num <= 3:\n",
        "    return True   # 2 and 3 are prime numbers\n",
        "  if num % 2 == 0 or num % 3 == 0:\n",
        "    return False  # Multiples of 2 or 3 are not prime\n",
        "\n",
        "  i = 5\n",
        "  while i * i <= num:\n",
        "    if num % i == 0 or num % (i + 2) == 0:\n",
        "      return False\n",
        "    i += 6\n",
        "  return True\n",
        "\n",
        "# Check prime numbers from 1 to 200\n",
        "print(\"Prime numbers from 1 to 200:\")\n",
        "for number in range(1, 201):\n",
        "  if is_prime(number):\n",
        "    print(number, end=\" \")"
      ],
      "execution_count": null,
      "outputs": []
    },
    {
      "cell_type": "code",
      "source": [
        "### 5  Create an iterator class in Python that generates the Fibonacci sequence up to a specified number of\n",
        "###terms."
      ],
      "metadata": {
        "id": "ijdqBQ6lafZW"
      },
      "execution_count": null,
      "outputs": []
    },
    {
      "cell_type": "code",
      "metadata": {
        "id": "d7918ca4"
      },
      "source": [
        "class FibonacciIterator:\n",
        "  \"\"\"\n",
        "  An iterator class that generates the Fibonacci sequence up to a specified number of terms.\n",
        "  \"\"\"\n",
        "  def __init__(self, num_terms):\n",
        "    self.num_terms = num_terms\n",
        "    self.count = 0\n",
        "    self.a = 0\n",
        "    self.b = 1\n",
        "\n",
        "  def __iter__(self):\n",
        "    return self\n",
        "\n",
        "  def __next__(self):\n",
        "    if self.count < self.num_terms:\n",
        "      if self.count == 0:\n",
        "        self.count += 1\n",
        "        return self.a\n",
        "      elif self.count == 1:\n",
        "        self.count += 1\n",
        "        return self.b\n",
        "      else:\n",
        "        next_fib = self.a + self.b\n",
        "        self.a = self.b\n",
        "        self.b = next_fib\n",
        "        self.count += 1\n",
        "        return next_fib\n",
        "    else:\n",
        "      raise StopIteration\n",
        "\n",
        "# Example usage:\n",
        "fib_iterator = FibonacciIterator(10)\n",
        "\n",
        "print(\"Fibonacci sequence up to 10 terms:\")\n",
        "for number in fib_iterator:\n",
        "  print(number)"
      ],
      "execution_count": null,
      "outputs": []
    },
    {
      "cell_type": "code",
      "source": [
        "### 6  Write a generator function in Python that yields the powers of 2 up to a given exponent."
      ],
      "metadata": {
        "id": "_eZ7zw-0aryg"
      },
      "execution_count": null,
      "outputs": []
    },
    {
      "cell_type": "code",
      "metadata": {
        "id": "55a518f1"
      },
      "source": [
        "def power_of_two_generator(max_exponent):\n",
        "  \"\"\"\n",
        "  Generates powers of 2 up to a given maximum exponent.\n",
        "\n",
        "  Args:\n",
        "    max_exponent: The maximum exponent for the powers of 2.\n",
        "\n",
        "  Yields:\n",
        "    The next power of 2.\n",
        "  \"\"\"\n",
        "  for i in range(max_exponent + 1):\n",
        "    yield 2 ** i\n",
        "\n",
        "# Example usage:\n",
        "powers = power_of_two_generator(5)\n",
        "\n",
        "print(\"Powers of 2 up to exponent 5:\")\n",
        "for power in powers:\n",
        "  print(power)"
      ],
      "execution_count": null,
      "outputs": []
    },
    {
      "cell_type": "code",
      "source": [
        "### 7 Implement a generator function that reads a file line by line and yields each line as a string."
      ],
      "metadata": {
        "id": "DKZDi1XWa-bX"
      },
      "execution_count": null,
      "outputs": []
    },
    {
      "cell_type": "code",
      "metadata": {
        "id": "32862d14"
      },
      "source": [
        "def read_file_line_by_line(file_path):\n",
        "  \"\"\"\n",
        "  Reads a file line by line and yields each line.\n",
        "\n",
        "  Args:\n",
        "    file_path: The path to the file.\n",
        "\n",
        "  Yields:\n",
        "    Each line of the file as a string.\n",
        "  \"\"\"\n",
        "  try:\n",
        "    with open(file_path, 'r') as f:\n",
        "      for line in f:\n",
        "        yield line.strip() # Yield each line, removing leading/trailing whitespace\n",
        "  except FileNotFoundError:\n",
        "    print(f\"Error: File not found at {file_path}\")\n",
        "  except Exception as e:\n",
        "    print(f\"An error occurred: {e}\")\n",
        "\n",
        "# Example usage:\n",
        "file_generator = read_file_line_by_line(\"my_file.txt\")\n",
        "\n",
        "print(\"Reading file line by line:\")\n",
        "for line in file_generator:\n",
        "  print(line)"
      ],
      "execution_count": null,
      "outputs": []
    },
    {
      "cell_type": "code",
      "metadata": {
        "id": "74ffd68b"
      },
      "source": [
        "# Create a dummy file for demonstration\n",
        "with open(\"my_file.txt\", \"w\") as f:\n",
        "  f.write(\"This is the first line.\\n\")\n",
        "  f.write(\"This is the second line.\\n\")\n",
        "  f.write(\"And this is the third line.\\n\")"
      ],
      "execution_count": null,
      "outputs": []
    },
    {
      "cell_type": "code",
      "source": [
        "###  Use a lambda function in Python to sort a list of tuples based on the second element of each tuple."
      ],
      "metadata": {
        "id": "17UUK9fqbME0"
      },
      "execution_count": null,
      "outputs": []
    },
    {
      "cell_type": "code",
      "metadata": {
        "id": "b8fd593e"
      },
      "source": [
        "# List of tuples\n",
        "my_list_of_tuples = [(1, 'banana'), (3, 'apple'), (2, 'cherry')]\n",
        "\n",
        "# Sort the list of tuples based on the second element using a lambda function\n",
        "sorted_list = sorted(my_list_of_tuples, key=lambda item: item[1])\n",
        "\n",
        "print(\"Original list of tuples:\", my_list_of_tuples)\n",
        "print(\"Sorted list of tuples (by second element):\", sorted_list)"
      ],
      "execution_count": null,
      "outputs": []
    },
    {
      "cell_type": "code",
      "source": [
        "### 9 Write a Python program that uses `map()` to convert a list of temperatures from Celsius to Fahrenheit."
      ],
      "metadata": {
        "id": "Auej3rSFbcdA"
      },
      "execution_count": null,
      "outputs": []
    },
    {
      "cell_type": "code",
      "metadata": {
        "id": "d24341ff"
      },
      "source": [
        "# Function to convert Celsius to Fahrenheit\n",
        "def celsius_to_fahrenheit(celsius):\n",
        "  return (celsius * 9/5) + 32\n",
        "\n",
        "# List of temperatures in Celsius\n",
        "celsius_temperatures = [0, 10, 20, 30, 40, 50]\n",
        "\n",
        "# Use map() to convert Celsius temperatures to Fahrenheit\n",
        "fahrenheit_temperatures = list(map(celsius_to_fahrenheit, celsius_temperatures))\n",
        "\n",
        "print(\"Celsius temperatures:\", celsius_temperatures)\n",
        "print(\"Fahrenheit temperatures:\", fahrenheit_temperatures)"
      ],
      "execution_count": null,
      "outputs": []
    },
    {
      "cell_type": "code",
      "source": [
        "### 10  Create a Python program that uses `filter()` to remove all the vowels from a given string."
      ],
      "metadata": {
        "id": "S6wNcm_OboxG"
      },
      "execution_count": null,
      "outputs": []
    },
    {
      "cell_type": "code",
      "metadata": {
        "id": "f138baa9"
      },
      "source": [
        "def is_not_vowel(character):\n",
        "  \"\"\"\n",
        "  Checks if a character is not a vowel.\n",
        "  \"\"\"\n",
        "  vowels = \"aeiouAEIOU\"\n",
        "  return character not in vowels\n",
        "\n",
        "# Input string\n",
        "input_string = \"Hello, World!\"\n",
        "\n",
        "# Use filter() to remove vowels\n",
        "filtered_characters = filter(is_not_vowel, input_string)\n",
        "\n",
        "# Join the filtered characters back into a string\n",
        "string_without_vowels = \"\".join(filtered_characters)\n",
        "\n",
        "print(f\"Original string: {input_string}\")\n",
        "print(f\"String without vowels: {string_without_vowels}\")"
      ],
      "execution_count": null,
      "outputs": []
    },
    {
      "cell_type": "code",
      "source": [
        "### 11 Imagine an accounting routine used in a book shop. It works on a list with sublists, which look like this\n",
        "\n",
        "### Write a Python program, which returns a list with 2-tuples. Each tuple consists of the order number and the\n",
        "#### product of the price per item and the quantity. The product should be increased by 10,- € if the value of the\n",
        "### order is smaller than 100,00 €.\n",
        "\n",
        "### Write a Python program using lambda and map."
      ],
      "metadata": {
        "id": "_S94ZdlKbxQH"
      },
      "execution_count": null,
      "outputs": []
    },
    {
      "cell_type": "code",
      "metadata": {
        "id": "966bbb4f"
      },
      "source": [
        "orders = [\n",
        "    [1, 5, 10.0],\n",
        "    [2, 2, 50.0],\n",
        "    [3, 10, 5.0],\n",
        "    [4, 3, 30.0],\n",
        "    [5, 1, 120.0]\n",
        "]\n",
        "\n",
        "# Use map with a lambda function to process the orders\n",
        "processed_orders = list(map(lambda order: (order[0], order[1] * order[2] + (10 if order[1] * order[2] < 100 else 0)), orders))\n",
        "\n",
        "print(processed_orders)"
      ],
      "execution_count": null,
      "outputs": []
    }
  ],
  "metadata": {
    "colab": {
      "provenance": []
    },
    "kernelspec": {
      "display_name": "Python 3",
      "name": "python3"
    }
  },
  "nbformat": 4,
  "nbformat_minor": 0
}